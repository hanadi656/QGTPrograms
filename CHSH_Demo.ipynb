{
  "nbformat": 4,
  "nbformat_minor": 0,
  "metadata": {
    "colab": {
      "provenance": [],
      "authorship_tag": "ABX9TyPBrBw02YEx1r2FcI5Q+Ttb",
      "include_colab_link": true
    },
    "kernelspec": {
      "name": "python3",
      "display_name": "Python 3"
    },
    "language_info": {
      "name": "python"
    }
  },
  "cells": [
    {
      "cell_type": "markdown",
      "metadata": {
        "id": "view-in-github",
        "colab_type": "text"
      },
      "source": [
        "<a href=\"https://colab.research.google.com/github/hanadi656/QGTPrograms/blob/main/CHSH_Demo.ipynb\" target=\"_parent\"><img src=\"https://colab.research.google.com/assets/colab-badge.svg\" alt=\"Open In Colab\"/></a>"
      ]
    },
    {
      "cell_type": "code",
      "execution_count": null,
      "metadata": {
        "colab": {
          "base_uri": "https://localhost:8080/"
        },
        "collapsed": true,
        "id": "CXInhUSP9WmD",
        "outputId": "5c27f379-9a70-4b26-f95b-a91a9ce0a099"
      },
      "outputs": [
        {
          "output_type": "stream",
          "name": "stdout",
          "text": [
            "Collecting qiskit\n",
            "  Downloading qiskit-2.0.2-cp39-abi3-manylinux_2_17_x86_64.manylinux2014_x86_64.whl.metadata (12 kB)\n",
            "Collecting rustworkx>=0.15.0 (from qiskit)\n",
            "  Downloading rustworkx-0.16.0-cp39-abi3-manylinux_2_17_x86_64.manylinux2014_x86_64.whl.metadata (10 kB)\n",
            "Requirement already satisfied: numpy<3,>=1.17 in /usr/local/lib/python3.11/dist-packages (from qiskit) (2.0.2)\n",
            "Requirement already satisfied: scipy>=1.5 in /usr/local/lib/python3.11/dist-packages (from qiskit) (1.15.3)\n",
            "Requirement already satisfied: sympy>=1.3 in /usr/local/lib/python3.11/dist-packages (from qiskit) (1.13.1)\n",
            "Requirement already satisfied: dill>=0.3 in /usr/local/lib/python3.11/dist-packages (from qiskit) (0.3.7)\n",
            "Requirement already satisfied: python-dateutil>=2.8.0 in /usr/local/lib/python3.11/dist-packages (from qiskit) (2.9.0.post0)\n",
            "Collecting stevedore>=3.0.0 (from qiskit)\n",
            "  Downloading stevedore-5.4.1-py3-none-any.whl.metadata (2.3 kB)\n",
            "Requirement already satisfied: typing-extensions in /usr/local/lib/python3.11/dist-packages (from qiskit) (4.13.2)\n",
            "Collecting symengine<0.14,>=0.11 (from qiskit)\n",
            "  Downloading symengine-0.13.0-cp311-cp311-manylinux_2_17_x86_64.manylinux2014_x86_64.whl.metadata (1.2 kB)\n",
            "Requirement already satisfied: six>=1.5 in /usr/local/lib/python3.11/dist-packages (from python-dateutil>=2.8.0->qiskit) (1.17.0)\n",
            "Collecting pbr>=2.0.0 (from stevedore>=3.0.0->qiskit)\n",
            "  Downloading pbr-6.1.1-py2.py3-none-any.whl.metadata (3.4 kB)\n",
            "Requirement already satisfied: mpmath<1.4,>=1.1.0 in /usr/local/lib/python3.11/dist-packages (from sympy>=1.3->qiskit) (1.3.0)\n",
            "Requirement already satisfied: setuptools in /usr/local/lib/python3.11/dist-packages (from pbr>=2.0.0->stevedore>=3.0.0->qiskit) (75.2.0)\n",
            "Downloading qiskit-2.0.2-cp39-abi3-manylinux_2_17_x86_64.manylinux2014_x86_64.whl (6.5 MB)\n",
            "\u001b[2K   \u001b[90m━━━━━━━━━━━━━━━━━━━━━━━━━━━━━━━━━━━━━━━━\u001b[0m \u001b[32m6.5/6.5 MB\u001b[0m \u001b[31m30.5 MB/s\u001b[0m eta \u001b[36m0:00:00\u001b[0m\n",
            "\u001b[?25hDownloading rustworkx-0.16.0-cp39-abi3-manylinux_2_17_x86_64.manylinux2014_x86_64.whl (2.1 MB)\n",
            "\u001b[2K   \u001b[90m━━━━━━━━━━━━━━━━━━━━━━━━━━━━━━━━━━━━━━━━\u001b[0m \u001b[32m2.1/2.1 MB\u001b[0m \u001b[31m30.4 MB/s\u001b[0m eta \u001b[36m0:00:00\u001b[0m\n",
            "\u001b[?25hDownloading stevedore-5.4.1-py3-none-any.whl (49 kB)\n",
            "\u001b[2K   \u001b[90m━━━━━━━━━━━━━━━━━━━━━━━━━━━━━━━━━━━━━━━━\u001b[0m \u001b[32m49.5/49.5 kB\u001b[0m \u001b[31m1.9 MB/s\u001b[0m eta \u001b[36m0:00:00\u001b[0m\n",
            "\u001b[?25hDownloading symengine-0.13.0-cp311-cp311-manylinux_2_17_x86_64.manylinux2014_x86_64.whl (49.7 MB)\n",
            "\u001b[2K   \u001b[90m━━━━━━━━━━━━━━━━━━━━━━━━━━━━━━━━━━━━━━━━\u001b[0m \u001b[32m49.7/49.7 MB\u001b[0m \u001b[31m10.8 MB/s\u001b[0m eta \u001b[36m0:00:00\u001b[0m\n",
            "\u001b[?25hDownloading pbr-6.1.1-py2.py3-none-any.whl (108 kB)\n",
            "\u001b[2K   \u001b[90m━━━━━━━━━━━━━━━━━━━━━━━━━━━━━━━━━━━━━━━━\u001b[0m \u001b[32m109.0/109.0 kB\u001b[0m \u001b[31m1.5 MB/s\u001b[0m eta \u001b[36m0:00:00\u001b[0m\n",
            "\u001b[?25hInstalling collected packages: symengine, rustworkx, pbr, stevedore, qiskit\n",
            "Successfully installed pbr-6.1.1 qiskit-2.0.2 rustworkx-0.16.0 stevedore-5.4.1 symengine-0.13.0\n",
            "Collecting qiskit-aer\n",
            "  Downloading qiskit_aer-0.17.0-cp311-cp311-manylinux_2_17_x86_64.manylinux2014_x86_64.whl.metadata (8.2 kB)\n",
            "Requirement already satisfied: qiskit>=1.1.0 in /usr/local/lib/python3.11/dist-packages (from qiskit-aer) (2.0.2)\n",
            "Requirement already satisfied: numpy>=1.16.3 in /usr/local/lib/python3.11/dist-packages (from qiskit-aer) (2.0.2)\n",
            "Requirement already satisfied: scipy>=1.0 in /usr/local/lib/python3.11/dist-packages (from qiskit-aer) (1.15.3)\n",
            "Requirement already satisfied: psutil>=5 in /usr/local/lib/python3.11/dist-packages (from qiskit-aer) (5.9.5)\n",
            "Requirement already satisfied: rustworkx>=0.15.0 in /usr/local/lib/python3.11/dist-packages (from qiskit>=1.1.0->qiskit-aer) (0.16.0)\n",
            "Requirement already satisfied: sympy>=1.3 in /usr/local/lib/python3.11/dist-packages (from qiskit>=1.1.0->qiskit-aer) (1.13.1)\n",
            "Requirement already satisfied: dill>=0.3 in /usr/local/lib/python3.11/dist-packages (from qiskit>=1.1.0->qiskit-aer) (0.3.7)\n",
            "Requirement already satisfied: python-dateutil>=2.8.0 in /usr/local/lib/python3.11/dist-packages (from qiskit>=1.1.0->qiskit-aer) (2.9.0.post0)\n",
            "Requirement already satisfied: stevedore>=3.0.0 in /usr/local/lib/python3.11/dist-packages (from qiskit>=1.1.0->qiskit-aer) (5.4.1)\n",
            "Requirement already satisfied: typing-extensions in /usr/local/lib/python3.11/dist-packages (from qiskit>=1.1.0->qiskit-aer) (4.13.2)\n",
            "Requirement already satisfied: symengine<0.14,>=0.11 in /usr/local/lib/python3.11/dist-packages (from qiskit>=1.1.0->qiskit-aer) (0.13.0)\n",
            "Requirement already satisfied: six>=1.5 in /usr/local/lib/python3.11/dist-packages (from python-dateutil>=2.8.0->qiskit>=1.1.0->qiskit-aer) (1.17.0)\n",
            "Requirement already satisfied: pbr>=2.0.0 in /usr/local/lib/python3.11/dist-packages (from stevedore>=3.0.0->qiskit>=1.1.0->qiskit-aer) (6.1.1)\n",
            "Requirement already satisfied: mpmath<1.4,>=1.1.0 in /usr/local/lib/python3.11/dist-packages (from sympy>=1.3->qiskit>=1.1.0->qiskit-aer) (1.3.0)\n",
            "Requirement already satisfied: setuptools in /usr/local/lib/python3.11/dist-packages (from pbr>=2.0.0->stevedore>=3.0.0->qiskit>=1.1.0->qiskit-aer) (75.2.0)\n",
            "Downloading qiskit_aer-0.17.0-cp311-cp311-manylinux_2_17_x86_64.manylinux2014_x86_64.whl (12.4 MB)\n",
            "\u001b[2K   \u001b[90m━━━━━━━━━━━━━━━━━━━━━━━━━━━━━━━━━━━━━━━━\u001b[0m \u001b[32m12.4/12.4 MB\u001b[0m \u001b[31m61.2 MB/s\u001b[0m eta \u001b[36m0:00:00\u001b[0m\n",
            "\u001b[?25hInstalling collected packages: qiskit-aer\n",
            "Successfully installed qiskit-aer-0.17.0\n"
          ]
        }
      ],
      "source": [
        "!pip install qiskit\n",
        "!pip install qiskit-aer"
      ]
    },
    {
      "cell_type": "code",
      "source": [
        "#from qiskit import QuantumCircuit, Aer, execute\n",
        "from qiskit import QuantumCircuit\n",
        "from qiskit_aer import Aer\n",
        "#from qiskit import execute\n",
        "from qiskit import transpile\n",
        "\n",
        "import numpy as np\n",
        "\n",
        "def chsh_quantum_strategy(x, y, shots=1000):\n",
        "    \"\"\"Constructs and runs a CHSH quantum circuit for inputs x and y.\"\"\"\n",
        "    qc = QuantumCircuit(2, 2)\n",
        "\n",
        "    # Step 1: Prepare entangled state\n",
        "    qc.h(0)\n",
        "    qc.cx(0, 1)\n",
        "    #------------------------------------------------------------------------------\n",
        "    # Step 2: Alice's measurement setting\n",
        "    #if x == 0:\n",
        "    #    pass  # Z basis\n",
        "    #else:\n",
        "    #    qc.ry(np.pi/2, 0)  # X basis\n",
        "\n",
        "    # Step 3: Bob's measurement setting\n",
        "    #if y == 0:\n",
        "    #    qc.ry(-np.pi/8, 1)  # (Z+X)/√2 basis\n",
        "    #else:\n",
        "    #    qc.ry(np.pi/8, 1)   # (Z−X)/√2 basis\n",
        "    #------------------------------------------------------------------------------------\n",
        "    if x == 1:\n",
        "      qc.h(0)  # X basis for Alice if x=1\n",
        "\n",
        "    if y == 0:\n",
        "      qc.ry(-np.pi/4, 1)  # -45 degrees for Bob\n",
        "    else:\n",
        "      qc.ry(np.pi/4, 1)   # +45 degrees for Bob\n",
        "    # Step 4: Measure\n",
        "    qc.measure(0, 0)\n",
        "    qc.measure(1, 1)\n",
        "\n",
        "    # Simulate\n",
        "    backend = Aer.get_backend('qasm_simulator')\n",
        "   #job = execute(qc, backend, shots=shots)\n",
        "    job = backend.run(transpile(qc, backend), shots=shots)\n",
        "    #backend = Aer.get_backend('qasm_simulator')\n",
        "    result = job.result()\n",
        "    counts = result.get_counts(qc)\n",
        "    display(qc.draw(\"text\"))\n",
        "    return counts\n",
        "\n",
        "# Evaluate the CHSH game win rate\n",
        "total_wins = 0\n",
        "total_trials = 0\n",
        "shots_per_case = 1024\n",
        "\n",
        "for x in [0, 1]:\n",
        "    for y in [0, 1]:\n",
        "        counts = chsh_quantum_strategy(x, y, shots=shots_per_case)\n",
        "        xy = x * y  # Expected parity of a + b\n",
        "\n",
        "        for outcome, freq in counts.items():\n",
        "            a = int(outcome[1])  # Alice's bit is qubit 0 → c0\n",
        "            b = int(outcome[0])  # Bob's bit is qubit 1 → c1\n",
        "            if (a + b) % 2 == xy:\n",
        "                total_wins += freq\n",
        "            total_trials += freq\n",
        "\n",
        "# Calculate and print win rate\n",
        "\n",
        "win_rate = total_wins / total_trials\n",
        "print(f\"Total wins: {total_wins}\")\n",
        "print(f\"Total trials: {total_trials}\")\n",
        "\n",
        "print(f\"Quantum CHSH strategy win rate: {win_rate:.4f}\")\n"
      ],
      "metadata": {
        "colab": {
          "base_uri": "https://localhost:8080/",
          "height": 503
        },
        "id": "QPrViA7Q9bZn",
        "outputId": "cdc9cb5a-0ec8-4c61-a5d3-7fcbe4f14b49"
      },
      "execution_count": null,
      "outputs": [
        {
          "output_type": "display_data",
          "data": {
            "text/plain": [
              "     ┌───┐                 ┌─┐   \n",
              "q_0: ┤ H ├──■──────────────┤M├───\n",
              "     └───┘┌─┴─┐┌──────────┐└╥┘┌─┐\n",
              "q_1: ─────┤ X ├┤ Ry(-π/4) ├─╫─┤M├\n",
              "          └───┘└──────────┘ ║ └╥┘\n",
              "c: 2/═══════════════════════╩══╩═\n",
              "                            0  1 "
            ],
            "text/html": [
              "<pre style=\"word-wrap: normal;white-space: pre;background: #fff0;line-height: 1.1;font-family: &quot;Courier New&quot;,Courier,monospace\">     ┌───┐                 ┌─┐   \n",
              "q_0: ┤ H ├──■──────────────┤M├───\n",
              "     └───┘┌─┴─┐┌──────────┐└╥┘┌─┐\n",
              "q_1: ─────┤ X ├┤ Ry(-π/4) ├─╫─┤M├\n",
              "          └───┘└──────────┘ ║ └╥┘\n",
              "c: 2/═══════════════════════╩══╩═\n",
              "                            0  1 </pre>"
            ]
          },
          "metadata": {}
        },
        {
          "output_type": "display_data",
          "data": {
            "text/plain": [
              "     ┌───┐                ┌─┐   \n",
              "q_0: ┤ H ├──■─────────────┤M├───\n",
              "     └───┘┌─┴─┐┌─────────┐└╥┘┌─┐\n",
              "q_1: ─────┤ X ├┤ Ry(π/4) ├─╫─┤M├\n",
              "          └───┘└─────────┘ ║ └╥┘\n",
              "c: 2/══════════════════════╩══╩═\n",
              "                           0  1 "
            ],
            "text/html": [
              "<pre style=\"word-wrap: normal;white-space: pre;background: #fff0;line-height: 1.1;font-family: &quot;Courier New&quot;,Courier,monospace\">     ┌───┐                ┌─┐   \n",
              "q_0: ┤ H ├──■─────────────┤M├───\n",
              "     └───┘┌─┴─┐┌─────────┐└╥┘┌─┐\n",
              "q_1: ─────┤ X ├┤ Ry(π/4) ├─╫─┤M├\n",
              "          └───┘└─────────┘ ║ └╥┘\n",
              "c: 2/══════════════════════╩══╩═\n",
              "                           0  1 </pre>"
            ]
          },
          "metadata": {}
        },
        {
          "output_type": "display_data",
          "data": {
            "text/plain": [
              "     ┌───┐        ┌───┐    ┌─┐   \n",
              "q_0: ┤ H ├──■─────┤ H ├────┤M├───\n",
              "     └───┘┌─┴─┐┌──┴───┴───┐└╥┘┌─┐\n",
              "q_1: ─────┤ X ├┤ Ry(-π/4) ├─╫─┤M├\n",
              "          └───┘└──────────┘ ║ └╥┘\n",
              "c: 2/═══════════════════════╩══╩═\n",
              "                            0  1 "
            ],
            "text/html": [
              "<pre style=\"word-wrap: normal;white-space: pre;background: #fff0;line-height: 1.1;font-family: &quot;Courier New&quot;,Courier,monospace\">     ┌───┐        ┌───┐    ┌─┐   \n",
              "q_0: ┤ H ├──■─────┤ H ├────┤M├───\n",
              "     └───┘┌─┴─┐┌──┴───┴───┐└╥┘┌─┐\n",
              "q_1: ─────┤ X ├┤ Ry(-π/4) ├─╫─┤M├\n",
              "          └───┘└──────────┘ ║ └╥┘\n",
              "c: 2/═══════════════════════╩══╩═\n",
              "                            0  1 </pre>"
            ]
          },
          "metadata": {}
        },
        {
          "output_type": "display_data",
          "data": {
            "text/plain": [
              "     ┌───┐        ┌───┐   ┌─┐   \n",
              "q_0: ┤ H ├──■─────┤ H ├───┤M├───\n",
              "     └───┘┌─┴─┐┌──┴───┴──┐└╥┘┌─┐\n",
              "q_1: ─────┤ X ├┤ Ry(π/4) ├─╫─┤M├\n",
              "          └───┘└─────────┘ ║ └╥┘\n",
              "c: 2/══════════════════════╩══╩═\n",
              "                           0  1 "
            ],
            "text/html": [
              "<pre style=\"word-wrap: normal;white-space: pre;background: #fff0;line-height: 1.1;font-family: &quot;Courier New&quot;,Courier,monospace\">     ┌───┐        ┌───┐   ┌─┐   \n",
              "q_0: ┤ H ├──■─────┤ H ├───┤M├───\n",
              "     └───┘┌─┴─┐┌──┴───┴──┐└╥┘┌─┐\n",
              "q_1: ─────┤ X ├┤ Ry(π/4) ├─╫─┤M├\n",
              "          └───┘└─────────┘ ║ └╥┘\n",
              "c: 2/══════════════════════╩══╩═\n",
              "                           0  1 </pre>"
            ]
          },
          "metadata": {}
        },
        {
          "output_type": "stream",
          "name": "stdout",
          "text": [
            "Total wins: 3488\n",
            "Total trials: 4096\n",
            "Quantum CHSH strategy win rate: 0.8516\n"
          ]
        }
      ]
    }
  ]
}